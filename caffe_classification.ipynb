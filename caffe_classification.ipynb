{
 "cells": [
  {
   "cell_type": "markdown",
   "metadata": {},
   "source": [
    "#Getting started with Caffe\n",
    "\n",
    "This class was created by Allison Gray and Jon Barker."
   ]
  },
  {
   "cell_type": "markdown",
   "metadata": {},
   "source": [
    "The following timer counts down to a five minute warning before the lab instance shuts down.  You should get a pop up at the five minute warning reminding you to save your work!  If you are about to run out of time, please see the [Post-Lab](#Post-Lab-Summary) section for saving this lab to view offline later."
   ]
  },
  {
   "cell_type": "markdown",
   "metadata": {},
   "source": [
    "<iframe id=\"timer\" src=\"timer/timer.html\" width=\"100%\" height=\"120px\"></iframe>"
   ]
  },
  {
   "cell_type": "markdown",
   "metadata": {},
   "source": [
    "---\n",
    "Before we begin, let's verify [WebSockets](http://en.wikipedia.org/wiki/WebSocket) are working on your system.  To do this, execute the cell block below by giving it focus (clicking on it with your mouse), and hitting Ctrl-Enter, or pressing the play button in the toolbar above.  If all goes well, you should see some output returned below the grey cell.  If not, please consult the [Self-paced Lab Troubleshooting FAQ](https://developer.nvidia.com/self-paced-labs-faq#Troubleshooting) to debug the issue."
   ]
  },
  {
   "cell_type": "code",
   "execution_count": 1,
   "metadata": {
    "collapsed": false
   },
   "outputs": [
    {
     "name": "stdout",
     "output_type": "stream",
     "text": [
      "The answer should be three: 3\n"
     ]
    }
   ],
   "source": [
    "print \"The answer should be three: \" + str(1+2)"
   ]
  },
  {
   "cell_type": "markdown",
   "metadata": {},
   "source": [
    "Let's execute the cell below to display information about the GPUs running on the server."
   ]
  },
  {
   "cell_type": "code",
   "execution_count": 2,
   "metadata": {
    "collapsed": false
   },
   "outputs": [
    {
     "name": "stdout",
     "output_type": "stream",
     "text": [
      "Fri Jan 15 19:16:14 2016       \r\n",
      "+------------------------------------------------------+                       \r\n",
      "| NVIDIA-SMI 346.46     Driver Version: 346.46         |                       \r\n",
      "|-------------------------------+----------------------+----------------------+\r\n",
      "| GPU  Name        Persistence-M| Bus-Id        Disp.A | Volatile Uncorr. ECC |\r\n",
      "| Fan  Temp  Perf  Pwr:Usage/Cap|         Memory-Usage | GPU-Util  Compute M. |\r\n",
      "|===============================+======================+======================|\r\n",
      "|   0  GRID K520           On   | 0000:00:03.0     Off |                  N/A |\r\n",
      "| N/A   30C    P8    18W / 125W |     10MiB /  4095MiB |      0%      Default |\r\n",
      "+-------------------------------+----------------------+----------------------+\r\n",
      "                                                                               \r\n",
      "+-----------------------------------------------------------------------------+\r\n",
      "| Processes:                                                       GPU Memory |\r\n",
      "|  GPU       PID  Type  Process name                               Usage      |\r\n",
      "|=============================================================================|\r\n",
      "|  No running processes found                                                 |\r\n",
      "+-----------------------------------------------------------------------------+\r\n"
     ]
    }
   ],
   "source": [
    "!nvidia-smi"
   ]
  },
  {
   "cell_type": "markdown",
   "metadata": {},
   "source": [
    "##Introduction\n",
    "\n",
    "[Caffe](http://caffe.berkeleyvision.org/) is a deep learning framework developed by the Berkely Vision and Learning Center (BVLC) and community contributors.  Caffe is released under the BSD 2-Clause license.  Caffe emphasizes easy application of deep learning. All neural networks and optimization parameters are defined by configuration files without any hard-coding and Caffe offers a command line interface as well as scripting interfaces in Python and MATLAB.  Caffe is fast due it's C++ and CUDA foundation, but the code is extensible fostering active development.  There is a large open-source community contributing many significant changes and state-of-the-art features back into Caffe.  Neural networks trained using Caffe are also saved into a well-defined binary format that makes them easy to share - in fact, there is a model zoo hosted [here](https://github.com/BVLC/caffe/wiki/Model-Zoo) where you can download cutting edge pre-trained neural networks.\n",
    "\n",
    "The objectives of this class are to learn how to complete the following tasks in Caffe:\n",
    "\n",
    "1. Build and train a convolutional neural network (CNN) for classifying images.\n",
    "2. Evaluate the classification performance of a trained CNN under different training parameter configurations.\n",
    "3. Modify the network configuration to improve classification performance.\n",
    "3. Visualize the features that a trained network has learned.\n",
    "4. Classify new test images using a trained network.\n",
    "\n",
    "This is an introductory class and is part of NVIDIA's five class Introduction to Deep Learning course.  It is assumed that you have completed the previous modules \"Introduction to Deep Learning\" and \"Getting Started with DIGITS interactive training system for image classification\" before starting this class."
   ]
  },
  {
   "cell_type": "markdown",
   "metadata": {},
   "source": [
    "##Training and Classifying with Caffe\n",
    "\n",
    "You are provided with a subset of the [ImageNet](http://www.image-net.org/) dataset.  The images are from two different categories, cats and dogs.  Below are sample images from both categories.  The cats category includes domestic cats as well as large breeds like lions and tigers.  The dog category is comprised of domestic dogs including pugs, basenji and great pyrenees.  There are approximately 13,000 images in total.\n",
    "\n",
    "![](files/src/cat1.png)\n",
    "![](files/src/cat2.png)\n",
    "![](files/src/dog1.png)\n",
    "![](files/src/dog2.png)\n",
    "\n",
    "In this class we will be creating and training a deep neural network in Caffe that can accurately classify images from these two categories, i.e. can label an image of a dog as \"dog\" and an image of a cat as \"cat\".\n",
    "\n",
    "##Task 1 - Creating a Database and Mean Image\n",
    "\n",
    "Before we train a neural network using Caffe we will move the training and validation images into a database.  The database allows Caffe to efficiently iterate over the image data during training.  The training and validation datasets are independent subsets of the original image dataset.  We will train the network using the training dataset and then test the networks performance using the validation dataset; that way we can be sure that the network performs well for images that it has never been trained on.\n",
    "\n",
    "To minimize the training time during this class we have resized all of the images to 32x32 pixels for you.  The image files can be located anywhere on the filesystem.  Caffe knows which images belong to the training and validation sets and which class each image belongs to by referring to text files `train.txt` and `val.txt`.  These files simply list the relative filename of each image tab seperated from a natural number representing the class the image belongs to.  For example, `train.txt` contains the following rows:"
   ]
  },
  {
   "cell_type": "raw",
   "metadata": {},
   "source": [
    "cat/cat_0_32.jpg 0\n",
    "cat/cat_1000_32.jpg 0\n",
    "dog/dog_9990_32.jpg 1\n",
    "dog/dog_9991_32.jpg 1\n",
    "..."
   ]
  },
  {
   "cell_type": "markdown",
   "metadata": {},
   "source": [
    "We also create a mean image from the training data. This is the image obtained by taking the mean value of each pixel across all of the training dataset images.  We do this so that we can extract that mean image from each training and validation image before it is fed into the neural network.  This is an important pre-processing step for achieving fast and effective training.  It has the effect of removing the average brightness (intensity) of each point in the image so that the network learns about image content rather than illumination conditions.\n",
    "\n",
    "We complete each of these tasks using command line tools that come with Caffe.  A number of useful utilities for data pre-processing, network training and network deployment can be found in the Caffe installation folder in `$CAFFE_ROOT/build/tools`\n",
    "\n",
    "Execute the cell below to create a mean image of the training data. (_Note_: you can ignore the \"Failed to initialize libdc1394\" warning messages in the output)\n",
    "\n",
    "You will know the lab is processing when you see a solid circle in the top-right of the window that looks like this: ![](jupyter_executing.png)\n",
    "Otherwise, when it is idle, you will see the following: ![](jupyter_idle.png)\n",
    "If you ever feel like a cell has run for to long, you can stop it with the stop button in the toolbar.\n",
    "For troubleshooting, please see [Self-paced Lab Troubleshooting FAQ](https://developer.nvidia.com/self-paced-labs-faq#Troubleshooting) to debug the issue.\n"
   ]
  },
  {
   "cell_type": "code",
   "execution_count": 3,
   "metadata": {
    "collapsed": false,
    "scrolled": true
   },
   "outputs": [
    {
     "name": "stderr",
     "output_type": "stream",
     "text": [
      "E0115 19:21:03.898493  3150 convert_imageset.cpp:143] Processed 1000 files.\n",
      "E0115 19:21:04.405110  3150 convert_imageset.cpp:143] Processed 2000 files.\n",
      "E0115 19:21:04.887454  3150 convert_imageset.cpp:143] Processed 3000 files.\n",
      "E0115 19:21:05.342878  3150 convert_imageset.cpp:143] Processed 4000 files.\n",
      "E0115 19:21:05.885934  3150 convert_imageset.cpp:143] Processed 5000 files.\n",
      "E0115 19:21:06.512353  3150 convert_imageset.cpp:143] Processed 6000 files.\n",
      "E0115 19:21:07.526595  3150 convert_imageset.cpp:143] Processed 7000 files.\n",
      "E0115 19:21:08.033902  3150 convert_imageset.cpp:143] Processed 8000 files.\n",
      "E0115 19:21:08.628804  3150 convert_imageset.cpp:143] Processed 9000 files.\n",
      "E0115 19:21:09.163836  3150 convert_imageset.cpp:143] Processed 10000 files.\n",
      "E0115 19:21:10.088855  3150 convert_imageset.cpp:143] Processed 11000 files.\n",
      "E0115 19:21:11.040606  3150 convert_imageset.cpp:143] Processed 12000 files.\n",
      "E0115 19:21:11.468827  3150 convert_imageset.cpp:149] Processed 12904 files.\n",
      "E0115 19:21:12.705242  3162 convert_imageset.cpp:143] Processed 1000 files.\n",
      "E0115 19:21:12.862079  3162 convert_imageset.cpp:149] Processed 1138 files.\n"
     ]
    }
   ],
   "source": [
    "%%bash\n",
    "\n",
    "rm -rf train_lmdb val_lmdb\n",
    "\n",
    "#Setup environment variables\n",
    "TOOLS=/home/ubuntu/caffe/build/tools\n",
    "TRAIN_DATA_ROOT=/home/ubuntu/data/dog_cat/dog_cat_32/train/\n",
    "VAL_DATA_ROOT=/home/ubuntu/data/dog_cat/dog_cat_32/val/\n",
    "\n",
    "#Create the training database\n",
    "$TOOLS/convert_imageset \\\n",
    "--shuffle \\\n",
    "$TRAIN_DATA_ROOT \\\n",
    "$TRAIN_DATA_ROOT/train.txt \\\n",
    "train_lmdb\n",
    "\n",
    "#Create the validation database\n",
    "$TOOLS/convert_imageset \\\n",
    "--shuffle \\\n",
    "$VAL_DATA_ROOT \\\n",
    "$VAL_DATA_ROOT/val.txt \\\n",
    "val_lmdb\n",
    "\n",
    "#Create the mean image database\n",
    "$TOOLS/compute_image_mean train_lmdb mean.binaryproto"
   ]
  },
  {
   "cell_type": "markdown",
   "metadata": {},
   "source": [
    "Run the cell below to see what the mean image looks like. Strangely, it looks a little like a mouse..."
   ]
  },
  {
   "cell_type": "code",
   "execution_count": 4,
   "metadata": {
    "collapsed": false
   },
   "outputs": [
    {
     "data": {
      "image/png": "iVBORw0KGgoAAAANSUhEUgAAAPwAAAD9CAYAAACY9xrCAAAABHNCSVQICAgIfAhkiAAAAAlwSFlz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\niedWfc5QCvjW2l