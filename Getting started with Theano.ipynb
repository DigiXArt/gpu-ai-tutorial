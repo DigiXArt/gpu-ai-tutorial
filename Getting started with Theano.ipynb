
{
 "cells": [
  {
   "cell_type": "markdown",
   "metadata": {},
   "source": [
    "#Getting started with Theano"
   ]
  },
  {
   "cell_type": "markdown",
   "metadata": {},
   "source": [
    "This lab was created by Jon Barker"
   ]
  },
  {
   "cell_type": "markdown",
   "metadata": {},
   "source": [
    "The following timer counts down to a five minute warning before the lab instance shuts down.  You should get a pop up at the five minute warning reminding you to save your work!  If you are about to run out of time, please see the [Post-Lab](#Post-Lab-Summary) section for saving this lab to view offline later."
   ]
  },
  {
   "cell_type": "markdown",
   "metadata": {},
   "source": [
    "<iframe id=\"timer\" src=\"timer/timer.html\" width=\"100%\" height=\"120px\"></iframe>"
   ]
  },
  {
   "cell_type": "markdown",
   "metadata": {},
   "source": [
    "---\n",
    "Before we begin, let's verify [WebSockets](http://en.wikipedia.org/wiki/WebSocket) are working on your system.  To do this, execute the cell block below by giving it focus (clicking on it with your mouse), and hitting Ctrl-Enter, or pressing the play button in the toolbar above.  If all goes well, you should see some output returned below the grey cell.  If not, please consult the [Self-paced Lab Troubleshooting FAQ](https://developer.nvidia.com/self-paced-labs-faq#Troubleshooting) to debug the issue."
   ]
  },
  {
   "cell_type": "code",
   "execution_count": 1,
   "metadata": {
    "collapsed": false
   },
   "outputs": [
    {
     "name": "stdout",
     "output_type": "stream",
     "text": [
      "The answer should be three: 3\n"
     ]
    }
   ],
   "source": [
    "print \"The answer should be three: \" + str(1+2)"
   ]
  },
  {
   "cell_type": "markdown",
   "metadata": {},
   "source": [
    "Let's execute the cell below to display information about the GPUs running on the server."
   ]
  },
  {
   "cell_type": "code",
   "execution_count": 2,
   "metadata": {
    "collapsed": false
   },
   "outputs": [
    {
     "name": "stdout",
     "output_type": "stream",
     "text": [
      "Fri Jan 15 19:41:27 2016       \r\n",
      "+------------------------------------------------------+                       \r\n",
      "| NVIDIA-SMI 346.46     Driver Version: 346.46         |                       \r\n",
      "|-------------------------------+----------------------+----------------------+\r\n",
      "| GPU  Name        Persistence-M| Bus-Id        Disp.A | Volatile Uncorr. ECC |\r\n",
      "| Fan  Temp  Perf  Pwr:Usage/Cap|         Memory-Usage | GPU-Util  Compute M. |\r\n",
      "|===============================+======================+======================|\r\n",
      "|   0  GRID K520           On   | 0000:00:03.0     Off |                  N/A |\r\n",
      "| N/A   29C    P8    17W / 125W |     10MiB /  4095MiB |      0%      Default |\r\n",
      "+-------------------------------+----------------------+----------------------+\r\n",
      "                                                                               \r\n",
      "+-----------------------------------------------------------------------------+\r\n",
      "| Processes:                                                       GPU Memory |\r\n",
      "|  GPU       PID  Type  Process name                               Usage      |\r\n",
      "|=============================================================================|\r\n",
      "|  No running processes found                                                 |\r\n",
      "+-----------------------------------------------------------------------------+\r\n"
     ]
    }
   ],
   "source": [
    "!nvidia-smi"
   ]
  },
  {
   "cell_type": "markdown",
   "metadata": {},
   "source": [
    "## Introduction\n",
    "\n",
    "Theano is a Python library that allows you to write symbolic mathematical expressions and compile them onto different computational architectures (in particular, CPU and GPU). It was developed by machine learning researchers at the University of Montreal. Its use is not limited to machine learning applications, but it was designed with machine learning in mind. It's especially good for machine learning techniques which are CPU-intensive and benefit from parallelization (e.g. large neural networks).\n",
    "\n",
    "In this class we will demonstrate Theano's explicit representation of symbolic maths and it's ability to compile that representation into efficient code to be applied to numerical data. We are going to work through one of the most fundamental applications of articial neural networks - the multi-layer perceptron.  This example will allow us to see a complete neural network being defined and trained from scratch, but the process we will follow in Theano is essentially the same for some of the much more complicated networks, such as Convolutional Neural Networks (CNNs), that we have seen in our previous classes.  We will finish the class by getting you started in extending the multi-layer perceptron example into a CNN."
   ]
  },
  {
   "cell_type": "markdown",
   "metadata": {},
   "source": [
    "## Key Theano concepts"
   ]
  },
  {
   "cell_type": "markdown",
   "metadata": {},
   "source": [
    "We will begin by introducing some important general concepts that form the basis for all computation in Theano.\n",
    "\n",
    "First we must import Theano into Python.  Notice that Theano is using the GPU - there is no more GPU configuration required when using Theano, the GPU will be leveraged for all applicable computations.  This was achieved by creating a file `.theanorc` file in our home directory that specified the flag `device=gpu`.  This configuration file is referenced by Theano when it is imported into Python.\n",
    "\n",
    "Execute the cell below to import Theano into Python.\n",
    "\n",
    "You will know the lab is processing when you see a solid circle in the top-right of the window that looks like this: ![](jupyter_executing.png)\n",
    "Otherwise, when it is idle, you will see the following: ![](jupyter_idle.png)\n",
    "If you ever feel like a cell has run for to long, you can stop it with the stop button in the toolbar.\n",
    "For troubleshooting, please see [Self-paced Lab Troubleshooting FAQ](https://developer.nvidia.com/self-paced-labs-faq#Troubleshooting) to debug the issue.\n"
   ]
  },
  {
   "cell_type": "code",
   "execution_count": 3,
   "metadata": {
    "collapsed": false
   },
   "outputs": [
    {
     "name": "stderr",
     "output_type": "stream",
     "text": [
      "Using gpu device 0: GRID K520 (CNMeM is disabled)\n"
     ]
    }
   ],
   "source": [
    "import numpy as np\n",
    "import theano\n",
    "# By convention, the tensor submodule is loaded as T\n",
    "import theano.tensor as T"
   ]
  },
  {
   "cell_type": "markdown",
   "metadata": {},
   "source": [
    "### Symbolic variables\n",
    "\n",
    "In Theano algorithms are defined symbolically.  This means that variables don't have to have explicit values.  The `theano.tensor` sub-module has various symbolic variable types.  Below is an example of a simple symbolic calculation using scalar variables. "
   ]
  },
  {
   "cell_type": "code",
   "execution_count": 4,
   "metadata": {
    "collapsed": false
   },
   "outputs": [
    {
     "name": "stdout",
     "output_type": "stream",
     "text": [
      "<class 'theano.tensor.var.TensorVariable'>\n",
      "(a ** TensorConstant{2})\n"
     ]
    }
   ],
   "source": [
    "# Define a scalar variable\n",
    "a = T.scalar('a')\n",
    "\n",
    "# Define another variable as a squared\n",
    "b = a**2\n",
    "\n",
    "# b will also be a theano variable\n",
    "print type(b)\n",
    "\n",
    "# We can inspect how b is defined using theano's pretty print function\n",
    "print theano.pp(b)"
   ]
  },
  {
   "cell_type": "markdown",
   "metadata": {},
   "source": [
    "### Functions\n",
    "\n",
    "To compute things in Theano using actual numerical values you define symbolic functions."
   ]
  },
  {
   "cell_type": "code",
   "execution_count": 5,
   "metadata": {
    "collapsed": false
   },
   "outputs": [
    {
     "name": "stdout",
     "output_type": "stream",
     "text": [
      "4.0\n"
     ]
    }
   ],
   "source": [
    "# We can't compute anything with a, b and c yet.\n",
    "# We need to define a theano function first.\n",
    "# The first argument of theano.function defines the inputs\n",
    "f = theano.function([a],b)\n",
    "print f(2)"
   ]
  },
  {
   "cell_type": "code",
   "execution_count": 6,
   "metadata": {
    "collapsed": false
   },
   "outputs": [
    {
     "name": "stdout",
     "output_type": "stream",
     "text": [
      "4.0\n"
     ]
    }
   ],
   "source": [
    "# In some cases you can use a symbolic variable's eval method.\n",
    "# This can be more concise and convenient that defining a function.\n",
    "# If it has inputs, the eval method takes a Python dictionary where\n",
    "# the keys are theano variables and the values are values for those\n",
    "# variables.\n",
    "print b.eval({a: 2})"
   ]
  },
  {
   "cell_type": "markdown",
   "metadata": {},
   "source": [
    "### theano.tensor\n",
    "\n",
    "Theano has variable types for vectors, matrices and tensors.  The `theano.tensor` sub-module has various functions for performing operations on these variables."
   ]
  },
  {
   "cell_type": "code",
   "execution_count": 7,
   "metadata": {
    "collapsed": false
   },
   "outputs": [
    {
     "name": "stdout",
     "output_type": "stream",
     "text": [
      "[ 14.  32.]\n"
     ]
    }
   ],
   "source": [
    "# Define symbolic matrix and vector variables\n",
    "A = T.matrix('A')\n",
    "x = T.vector('x')\n",
    "\n",
    "# Define a symbolic function using these variables\n",
    "y = T.dot(A, x)\n",
    "\n",
    "# Define a theano function to compute y\n",
    "linear_func = theano.function([A, x], y)\n",
    "\n",
    "# Supply numeric values for A and x\n",
    "print linear_func(np.array([[1,2,3],[4,5,6]], dtype=theano.config.floatX),\n",
    "                  np.array([1,2,3], dtype=theano.config.floatX))"
   ]
  },
  {
   "cell_type": "markdown",
   "metadata": {},
   "source": [
    "`theano.config.floatX` is a configuration variable that Theano also obtains from the `.theanorc` file.  Here it is used to specify the numerical type of the variables A and x.  If you are using GPU acceleration then `floatX` should be `float32`."
   ]
  },
  {
   "cell_type": "markdown",
   "metadata": {},
   "source": [
    "### Shared variables\n",
    "\n",
    "Shared variables are Theano variables that do have an explcit value that can be get/set and is shared across all functions which use the variable."
   ]
  },
  {
   "cell_type": "code",
   "execution_count": 8,
   "metadata": {
    "collapsed": false
   },
   "outputs": [
    {
     "name": "stdout",
     "output_type": "stream",
     "text": [
      "<CudaNdarrayType(float32, matrix)>\n",
      "[[ 1.  2.]\n",
      " [ 3.  4.]]\n"
     ]
    }
   ],
   "source": [
    "shared_var = theano.shared(np.array([[1,2],[3,4]], dtype=theano.config.floatX))\n",
    "print shared_var.type()\n",
    "print shared_var.get_value()"
   ]
  },
  {
   "cell_type": "code",
   "execution_count": 9,
   "metadata": {
    "collapsed": false
   },
   "outputs": [
    {
     "name": "stdout",
     "output_type": "stream",
     "text": [
      "[[ 3.  4.]\n",
      " [ 2.  1.]]\n"
     ]
    }
   ],
   "source": [
    "shared_var.set_value(np.array([[3, 4], [2, 1]], dtype=theano.config.floatX))\n",
    "print shared_var.get_value()"
   ]
  },
  {
   "cell_type": "code",
   "execution_count": 10,
   "metadata": {
    "collapsed": false
   },
   "outputs": [
    {
     "name": "stdout",
     "output_type": "stream",
     "text": [
      "[[  9.  16.]\n",
      " [  4.   1.]]\n"
     ]
    }
   ],
   "source": [
    "shared_squared = shared_var**2\n",
    "# The first argument of theano.function (inputs) tells Theano what the arguments to the compiled function should be.\n",
    "# Note that because shared_var is shared, it already has a value, so it doesn't need to be an input to the function.\n",
    "# Therefore, Theano implicitly considers shared_var an input to a function using shared_squared and so we don't need\n",
    "# to include it in the inputs argument of theano.function.\n",
    "function_1 = theano.function([], shared_squared)\n",
    "print function_1()"
   ]
  },
  {
   "cell_type": "markdown",
   "metadata": {},
   "source": [
    "### updates\n",
    "\n",
    "The value of a shared variable can be updated in a function by using the `updates` argument of `theano.function`."
   ]
  },
  {
   "cell_type": "code",
   "execution_count": 15,
   "metadata": {
    "collapsed": false
   },
   "outputs": [
    {
     "name": "stdout",
     "output_type": "stream",
     "text": [
      "shared_var before subtracting [[1, 1], [1, 1]] using function_2:\n",
      "[[ 2.  3.]\n",
      " [ 1.  0.]]\n",
      "shared_var after calling function_2:\n",
      "[[ 1.  2.]\n",
      " [ 0. -1.]]\n",
      "New output of function_1() (shared_var**2):\n",
      "[[ 1.  4.]\n",
      " [ 0.  1.]]\n"
     ]
    }
   ],
   "source": [
    "# We can also update the state of a shared var in a function\n",
    "subtract = T.matrix('subtract')\n",
    "# updates takes a dict where keys are shared variables and values are the new value the shared variable should take\n",
    "# Here, updates will set shared_var = shared_var - subtract\n",
    "function_2 = theano.function([subtract], shared_var, updates={shared_var: shared_var - subtract})\n",
    "print \"shared_var before subtracting [[1, 1], [1, 1]] using function_2:\"\n",
    "print shared_var.get_value()\n",
    "# Subtract [[1, 1], [1, 1]] from shared_var\n",
    "function_2(np.array([[1, 1], [1, 1]], dtype=theano.config.floatX))\n",
    "print \"shared_var after calling function_2:\"\n",
    "print shared_var.get_value()\n",
    "# Note that this also changes the output of function_1, because shared_var is shared!\n",
    "print \"New output of function_1() (shared_var**2):\"\n",
    "print function_1()"
   ]
  },
  {
   "cell_type": "markdown",
   "metadata": {},
   "source": [
    "## Example 1: Logistic regression"
   ]
  },
  {
   "cell_type": "markdown",
   "metadata": {},
   "source": [
    "Now that we have seen the basic building blocks used in Theano we going to see a more practical application.  We're going to generate some toy data, simply two classes of points embedded in 2D space and seperated by the line $y=x$.  "
   ]
  },
  {
   "cell_type": "code",
   "execution_count": 16,
   "metadata": {
    "collapsed": false
   },
   "outputs": [
    {
     "data": {
      "image/png": "iVBORw0KGgoAAAANSUhEUgAAAX4AAAEACAYAAAC08h1NAAAABHNCSVQICAgIfAhkiAAAAAlwSFlz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\n",
      "text/plain": [
       "<matplotlib.figure.Figure at 0x7fa1503349d0>"
      ]
     },
     "metadata": {},
     "output_type": "display_data"
    }
   ],
   "source": [
    "# Import some necessary Python visualization modules\n",
    "%matplotlib inline\n",
    "import matplotlib.pyplot as plt\n",
    "from IPython import display\n",
    "\n",
    "# Generate 50 random 2-D points\n",
    "x = np.random.random((50,2)).astype('float32')\n",
    "\n",
    "# If point is above y=x then class is 1,\n",
    "# otherwise class is 0\n",
    "y = np.zeros((50,)).astype('int32')\n",
    "y[x[:,0]>x[:,1]] = 1\n",
    "\n",
    "# Plot the points \n",
    "plt.scatter(x[:,0], x[:,1], c=y, s=100)\n",
    "plt.show()"
   ]
  },
  {
   "cell_type": "markdown",
   "metadata": {},
   "source": [
    "Logistic regression is a probabilistic linear classifier.  That means it uses a linear model to predict the probability of the class that a data sample belongs to, where a data sample is a real-valued input vector.  Logistic regression achieves this by projecting these input vectors onto a set of hyperplanes, each one representing a class, and the distance of the data sample from the hyperplane boundary represents the probability that it is a member of that class.\n",
    "\n",
    "Logistic regression is parameterized by a weight matrix $W$ and a bias vector $b$.  The probability that an input vector $x$ belongs to class $i$ can be written as: \n",
    "\n",
    "$$\\Pr(Y=i \\mid x,W,b)=softmax_i(Wx+b)$$\n",
    "\n",
    "The linear function $Wx+b$ is equivalent to an artificial neural network layer where all input neurons are fully-connected to all output neurons.  The number of input neurons is the same as the number of dimensions in the input vector.  The dimensions of $W$ determine how many neurons are in the outut layer and this is equal to the number of classes.  The $softmax$ function simply \"squashes\" an arbitrary real-valued vector into a vector of the same dimensions but with values in the range (0,1) - in this example, softmax is applied to the output of $Wx+b$ so that we get probabilities of class membership.\n",
    "\n",
    "Using Theano to express the mathematics, we define a logistic regression model as a Python class with a method that initializes the parameters as random real-valued numbers in [0,1] and feeds-forward an input vector.  We also define a method that will allow us to use the model in it's current state to classify new data samples."
   ]
  },
  {
   "cell_type": "code",
   "execution_count": 17,
   "metadata": {
    "collapsed": false
   },
   "outputs": [],
   "source": [
    "class LogisticRegression(object):\n",
    "    \n",
    "    def __init__(self, input, n_in, n_out):\n",
    "\n",
    "        # Initialize pseudo-random number generator\n",
    "        rng = np.random.RandomState(1234)\n",
    "        \n",
    "        # Randomly generate weight matrix W\n",
    "        W_values = np.asarray(\n",
    "            rng.uniform(\n",
    "                low=-np.sqrt(6. / (n_in + n_out)),\n",
    "                high=np.sqrt(6. / (n_in + n_out)),\n",
    "                size=(n_in, n_out)\n",
    "            ),\n",
    "            dtype=theano.config.floatX\n",
    "        )\n",
    "\n",
    "        self.W = theano.shared(value=W_values, name='W', borrow=True)        \n",
    "\n",
    "        # Randomly initialize bias vector b\n",
    "        b_values = np.zeros((n_out,), dtype=theano.config.floatX)\n",
    "        self.b = theano.shared(value=b_values, name='b', borrow=True)\n",
    "\n",
    "        # Define feed-forward function\n",
    "        self.p_y_given_x = T.nnet.softmax(T.dot(input, self.W) + self.b)\n",
    "        \n",
    "        # Specify parameters of layer\n",
    "        self.params = [self.W, self.b]\n",
    "        \n",
    "    def predict(self, input):\n",
    "        \n",
    "        # Function to apply layer feedforward to new input data\n",
    "        return T.nnet.softmax(T.dot(input, self.W) + self.b)"
   ]
  },
  {
   "cell_type": "markdown",
   "metadata": {},
   "source": [
    "Notice that we define the two parameters of the logistic regression as Theano shared variables.  This declares them both as being symbolic Theano variables that mantain a persistent state throughout training the model.  Shared variables must have an explicit value set - they are not purely symbolic.\n",
    "\n",
    "We can test our new class by passing in a random input vector."
   ]
  },
  {
   "cell_type": "code",
   "execution_count": 18,
   "metadata": {
    "collapsed": false,
    "scrolled": true
   },
   "outputs": [
    {
     "name": "stdout",
     "output_type": "stream",
     "text": [
      "[[ 0.20062771  0.79937232]]\n"
     ]
    }
   ],
   "source": [
    "# Define theano shared variables for the input data and labels\n",
    "shared_x = theano.shared(np.asarray(x, dtype=theano.config.floatX), borrow=True)\n",
    "shared_y = theano.shared(np.asarray(y, dtype=theano.config.floatX), borrow=True)\n",
    "shared_y = T.cast(shared_y, 'int32')\n",
    "\n",
    "# Initialize a logistic regressor with 2-dimensional inputs\n",
    "# and 2 classes for output with the first row of x as input\n",
    "lr = LogisticRegression(shared_x[0,:], 2, 2)\n",
    "# Feed the first data sample from x through the regressor and print output\n",
    "print lr.p_y_given_x.eval()"
   ]
  },
  {
   "cell_type": "markdown",
   "metadata": {},
   "source": [
    "Because the feed-forward step of the logistic regression is just multiplication by a 2-dimensional matrix, we can actually pass into our class a whole matrix of input vectors where each row represents an individual data sample.  This is a good example of why GPU acceleration can be of great benefit in neural network training - these types of matrix multiplication commonly occur and can be parallelized."
   ]
  },
  {
   "cell_type": "code",
   "execution_count": 19,
   "metadata": {
    "collapsed": false
   },
   "outputs": [
    {
     "name": "stdout",
     "output_type": "stream",
     "text": [
      "[[ 0.20062771  0.79937232]\n",
      " [ 0.22745155  0.77254838]\n",
      " [ 0.33795539  0.66204464]\n",
      " [ 0.42156744  0.57843256]\n",
      " [ 0.27868924  0.72131073]\n",
      " [ 0.26211172  0.73788828]\n",
      " [ 0.16638026  0.83361977]\n",
      " [ 0.29989687  0.70010316]\n",
      " [ 0.25336298  0.74663705]\n",
      " [ 0.22507016  0.77492988]]\n"
     ]
    }
   ],
   "source": [
    "# Initialize a logistic regressor with 2-dimensional inputs\n",
    "# and 2 classes for output but now with all of x as input\n",
    "lr = LogisticRegression(shared_x, 2, 2)\n",
    "# Print the first 10 data samples from x through the regressor and print output\n",
    "print lr.p_y_given_x.eval()[:10]"
   ]
  },
  {
   "cell_type": "markdown",
   "metadata": {
    "collapsed": true
   },
   "source": [
    "So far our model is not very useful as all of the parameters have random values. In order to train the parameters of the network we must define a loss function.  A loss function measures how close the models predicted classification of a training data sample is to the actual known classification.  The training process will attempt to find values of $W$ and $b$ that will minimize this loss value across all of our training data samples.  We will use the common negative log-likelihood as the loss.  This is equivalent to maximizing the likelihood of the training set $D$ under the model parameterized by $W$ and $b$.  The loss is defined as:\n",
    "\n",
    "$$L=-\\sum_{i=0}^{|D|}log(P(Y=y^{(i)}|x^{(i)},W,B))$$\n",
    "\n",
    "In Theano, we define the negative log loss function in the following way by creating another method operating on our logistic regression class."
   ]
  },
  {
   "cell_type": "code",
   "execution_count": 20,
   "metadata": {
    "collapsed": false
   },
   "outputs": [],
   "source": [
    "def negative_log_likelihood(self, y):\n",
    "    # y corresponds to a vector that gives for each data sample\n",
    "    # the correct label\n",
    "    return -T.mean(T.log(self.p_y_given_x)[T.arange(y.shape[0]), y])\n",
    "\n",
    "LogisticRegression.negative_log_likelihood = negative_log_likelihood"
   ]
  },
  {
   "cell_type": "markdown",
   "metadata": {},
   "source": [
    "To train the model we will use an algorithm called stochastic gradient descent (SGD) with mini-batches (sometimes also called minibatch gradient descent (MGD)).  We will not expose the complete details of SGD in this introductory class, but the essential algorithm proceeds as follows.  First, we feed-forward a mini-batch of data samples through the model to get probabilistic class predictions.  Second, we compute the loss by comparing the predictions to the true class labels we have as part of our dataset.  Third, we update the model parameters in such a way that next time we feed-forward the same mini-batch through the model the loss will be lower. \n",
    "\n",
    "In order to update the parameters we must compute whether to make each one bigger or smaller to reduce the loss.  We work this out by computing what are called the *gradients* of the loss function with respect to the parameters.  In mathematical terms these are the partial derivatives of the loss function with respect to each of the parameters.  Intuitively, these tell you which direction and with what magnitude you must modify each of the parameters to reduce the loss.\n",
    "\n",
    "Theano makes computing gradients very simple and this is a huge benefit.  Due to the symbolic definition of the loss function in terms of the parameters, we can simply call the Theano *grad* function to work out the gradients - no calculus required!\n",
    "\n",